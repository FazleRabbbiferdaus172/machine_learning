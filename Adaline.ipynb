{
  "nbformat": 4,
  "nbformat_minor": 0,
  "metadata": {
    "colab": {
      "name": "Adaline.ipynb",
      "provenance": [],
      "authorship_tag": "ABX9TyPffFFO3d9hnY23pULob2VJ",
      "include_colab_link": true
    },
    "kernelspec": {
      "name": "python3",
      "display_name": "Python 3"
    }
  },
  "cells": [
    {
      "cell_type": "markdown",
      "metadata": {
        "id": "view-in-github",
        "colab_type": "text"
      },
      "source": [
        "<a href=\"https://colab.research.google.com/github/FazleRabbbiferdaus172/machine_learning/blob/master/Adaline.ipynb\" target=\"_parent\"><img src=\"https://colab.research.google.com/assets/colab-badge.svg\" alt=\"Open In Colab\"/></a>"
      ]
    },
    {
      "cell_type": "markdown",
      "metadata": {
        "id": "Fijz76fjLMzh",
        "colab_type": "text"
      },
      "source": [
        "#**Adaline**\n",
        "##Adaptive Linear Neuron\n",
        "###Updated based on a linear activation function "
      ]
    },
    {
      "cell_type": "markdown",
      "metadata": {
        "id": "KjQA8bvSEXcf",
        "colab_type": "text"
      },
      "source": [
        "Adaline Class"
      ]
    },
    {
      "cell_type": "code",
      "metadata": {
        "id": "I9H5X9lRU7Yb",
        "colab_type": "code",
        "colab": {}
      },
      "source": [
        "import numpy as np\n",
        "\n",
        "class AdalineGD(object):\n",
        "    \"\"\"Perceptron classifier.\n",
        "\n",
        "    Parameters\n",
        "    ------------\n",
        "    eta : float\n",
        "        Learning rate (between 0.0 and 1.0)\n",
        "    n_iter : int\n",
        "        Passes over the training dataset.\n",
        "    random_state : int\n",
        "        Random number generator seed for random weight initialization.\n",
        "\n",
        "    Attributes\n",
        "    -----------\n",
        "\n",
        "    w_ : 1d-array\n",
        "        Weights after fitting.\n",
        "    cost_ : list\n",
        "        Sum-of-squres cost function value in each epoch\n",
        "    \"\"\"\n",
        "\n",
        "    def __init__(self, eta = 0.01, n_iter = 50, random_state=1):\n",
        "        self.eta = eta\n",
        "        self.n_iter = n_iter\n",
        "        self.random_state = random_state\n",
        "\n",
        "    def fit(self, X, y):\n",
        "        \"\"\"Fit traning data.\n",
        "        \n",
        "        Parameters\n",
        "        -----------\n",
        "        X : {array-like}, shape = [n_samples, n_features]\n",
        "            Traning vectors, where n_samples is the number of samples and\n",
        "            n_features is the number of features.\n",
        "        y : array-like, shape = [n_samples]\n",
        "            Target values.\n",
        "        \n",
        "        Returns\n",
        "        ---------\n",
        "        self : object\n",
        "\n",
        "        \"\"\"\n",
        "\n",
        "        rgen = np.random.RandomState(self.random_state)\n",
        "        self.w_ = rgen.normal(loc=0.0, scale= 0.01, size=1 + X.shape[1])\n",
        "\n",
        "        self.cost_ = []\n",
        "\n",
        "        for _ in range(self.n_iter):\n",
        "            net_input = self.net_input(X)\n",
        "            output = self.activation(net_input)\n",
        "            errors = (y - output)\n",
        "            self.w_[1:] += self.eta * X.T.dot(errors) #calculates the gradient based on the whole training dataset  for the weights 1 to m\n",
        "            self.w_[0] += self.eta * errors.sum()   #calculates the gradient based on the whole training dataset for bias\n",
        "            cost = (errors**2).sum() / 2.0\n",
        "            self.cost_.append(cost)\n",
        "        return self\n",
        "\n",
        "    def net_input(self, X):\n",
        "        \"\"\"Calculate net input\"\"\"\n",
        "        return np.dot(X, self.w_[1:]) + self.w_[0]\n",
        "\n",
        "    def activation(self, X):\n",
        "        \"\"\"Compute liner activation\"\"\"    \n",
        "        return X    # Activation method has no effect in the code since it is simply an identity function\n",
        "\n",
        "    def predict(self, X):\n",
        "        \"\"\"Return class label after unit step\"\"\"\n",
        "        return np.where(self.net_input(X) >= 0.0, 1, -1)"
      ],
      "execution_count": 1,
      "outputs": []
    },
    {
      "cell_type": "markdown",
      "metadata": {
        "id": "DlPZf_rIEcWj",
        "colab_type": "text"
      },
      "source": [
        "#Importing the data set"
      ]
    },
    {
      "cell_type": "code",
      "metadata": {
        "id": "ZvRBKCBDDxt9",
        "colab_type": "code",
        "colab": {
          "base_uri": "https://localhost:8080/",
          "height": 279
        },
        "outputId": "779b12f4-1508-41df-854c-e7e90d25354c"
      },
      "source": [
        "import pandas as pd\n",
        "import matplotlib.pyplot as plt\n",
        "\n",
        "df = pd.read_csv('https://archive.ics.uci.edu/ml/machine-learning-databases/iris/iris.data', header=None)\n",
        "#df.tail()\n",
        "\n",
        "#---------------------------------\n",
        "# ****select setosa and versicolor****\n",
        "y = df.iloc[0:100, 4].values\n",
        "#print(y)\n",
        "y = np.where(y == 'Iris-setosa', -1, 1 )\n",
        "#print(len(y), list(y).count(-1))\n",
        "#print(y)\n",
        "\n",
        "#-------------------------------------------\n",
        "# ****extract sepal lenght & petal lenght****\n",
        "X = df.iloc[0:100, [0,2]].values\n",
        "#print(X)\n",
        "\n",
        "\n",
        "#-------------------------------------\n",
        "# **** Plot data ****\n",
        "plt.scatter(X[:50,0], X[:50,1], color='red', marker='o', label='setosa')\n",
        "plt.scatter(X[50:100,0], X[50:100,1], color='blue', marker='x', label='versicolor')\n",
        "plt.xlabel('sepal length [cm]')\n",
        "plt.ylabel('petal length [cm]')\n",
        "plt.legend(loc='upper left')\n",
        "plt.show()"
      ],
      "execution_count": 2,
      "outputs": [
        {
          "output_type": "display_data",
          "data": {
            "image/png": "[encoded data removed]",
            "text/plain": [
              "<Figure size 432x288 with 1 Axes>"
            ]
          },
          "metadata": {
            "tags": [],
            "needs_background": "light"
          }
        }
      ]
    },
    {
      "cell_type": "markdown",
      "metadata": {
        "id": "Zusql15BEf06",
        "colab_type": "text"
      },
      "source": [
        "#Plot to find see the behavior of model for learing rate 0.01 & 0.0001"
      ]
    },
    {
      "cell_type": "code",
      "metadata": {
        "id": "eumPu2gZmXfn",
        "colab_type": "code",
        "colab": {
          "base_uri": "https://localhost:8080/",
          "height": 295
        },
        "outputId": "3f466207-265b-443f-898e-f554bda9d5f2"
      },
      "source": [
        "import matplotlib.pyplot as plt\n",
        "\n",
        "fig, ax = plt.subplots(nrows = 1, ncols=2, figsize=(10, 4))\n",
        "\n",
        "ada1 = AdalineGD(n_iter=10, eta=0.01).fit(X,y)\n",
        "ax[0].plot(range(1, len(ada1.cost_)+1), np.log10(ada1.cost_), marker='o')\n",
        "ax[0].set_xlabel('Epochs')\n",
        "ax[0].set_ylabel('log(Sum-squared-error)')\n",
        "ax[0].set_title('Adaline - Learning rate 0.01')\n",
        "\n",
        "ada2 = AdalineGD(n_iter=10, eta=0.0001).fit(X,y)\n",
        "ax[1].plot(range(1, len(ada2.cost_)+1), np.log10(ada2.cost_), marker='o')\n",
        "ax[1].set_xlabel('Epochs')\n",
        "ax[1].set_ylabel('log(Sum-squared-error)')\n",
        "ax[1].set_title('Adaline - Learning rate 0.0001')\n",
        "\n",
        "plt.show()\n"
      ],
      "execution_count": 3,
      "outputs": [
        {
          "output_type": "display_data",
          "data": {
            "image/png": "[encoded data removed]",
            "text/plain": [
              "<Figure size 720x288 with 2 Axes>"
            ]
          },
          "metadata": {
            "tags": [],
            "needs_background": "light"
          }
        }
      ]
    },
    {
      "cell_type": "markdown",
      "metadata": {
        "id": "I1GLbZ-d_aQ0",
        "colab_type": "text"
      },
      "source": [
        "#Feature scaling: Standaraization"
      ]
    },
    {
      "cell_type": "code",
      "metadata": {
        "id": "zZF242tz_kkz",
        "colab_type": "code",
        "colab": {}
      },
      "source": [
        "X_std = np.copy(X)\n",
        "X_std[:,0] = (X[:,0] - X[:,0].mean())/ X[:,0].std()\n",
        "X_std[:,1] = (X[:,1] - X[:,1].mean())/ X[:,1].std()"
      ],
      "execution_count": 6,
      "outputs": []
    },
    {
      "cell_type": "markdown",
      "metadata": {
        "id": "D9hHDZP4Ax2B",
        "colab_type": "text"
      },
      "source": [
        "#Behaviour of model after standaraization\n",
        "\n",
        "\n",
        "*   converges after small number of epochs\n",
        "*   converges even for learning rate 0.01\n",
        "\n"
      ]
    },
    {
      "cell_type": "code",
      "metadata": {
        "id": "7JIB7A21AeXl",
        "colab_type": "code",
        "colab": {
          "base_uri": "https://localhost:8080/",
          "height": 297
        },
        "outputId": "85cf7c5f-aad5-4635-81aa-61e8863fc52d"
      },
      "source": [
        "from matplotlib.colors import ListedColormap\n",
        "\n",
        "def plot_decision_regions(X, y, classifier, resolution=0.02):\n",
        "\n",
        "    # setup marker generator and color map\n",
        "    markers = ('s', 'x', 'o', '^', 'v')\n",
        "    colors = ('red', 'blue', 'lightgreen', 'gray', 'cyan')\n",
        "    cmap = ListedColormap(colors[:len(np.unique(y))])\n",
        "\n",
        "    # plot the decision surface\n",
        "    x1_min, x1_max = X[:, 0].min() - 1, X[:, 0].max() + 1\n",
        "    x2_min, x2_max = X[:, 1].min() - 1, X[:, 1].max() + 1\n",
        "    xx1, xx2 = np.meshgrid(np.arange(x1_min, x1_max, resolution),np.arange(x2_min, x2_max, resolution))\n",
        "    Z = classifier.predict(np.array([xx1.ravel(), xx2.ravel()]).T)\n",
        "    Z = Z.reshape(xx1.shape)\n",
        "    plt.contourf(xx1, xx2, Z, alpha=0.3, cmap=cmap)\n",
        "    plt.xlim(xx1.min(), xx1.max())\n",
        "    plt.ylim(xx2.min(), xx2.max())\n",
        "\n",
        "    # plot class samples\n",
        "    for idx, cl in enumerate(np.unique(y)):\n",
        "        plt.scatter(x=X[y == cl, 0],\n",
        "                    y=X[y == cl, 1],\n",
        "                    alpha = 0.8,\n",
        "                    c = colors[idx],\n",
        "                    marker=markers[idx],\n",
        "                    label=cl,\n",
        "                    edgecolor='black'\n",
        "                    )\n",
        "\n",
        "\n",
        "ada = AdalineGD(n_iter=15, eta=0.01)\n",
        "ada.fit(X_std,y)\n",
        "plot_decision_regions(X_std, y, classifier=ada)\n",
        "plt.title('Adaline - Gradient Descent')\n",
        "plt.xlabel('sepal length [standardized]')\n",
        "plt.ylabel('petal length [standardized]')\n",
        "plt.legend(loc='upper left')\n",
        "plt.tight_layout()\n",
        "plt.show()"
      ],
      "execution_count": 9,
      "outputs": [
        {
          "output_type": "display_data",
          "data": {
            "image/png": "[encoded data removed]",
            "text/plain": [
              "<Figure size 432x288 with 1 Axes>"
            ]
          },
          "metadata": {
            "tags": [],
            "needs_background": "light"
          }
        }
      ]
    },
    {
      "cell_type": "code",
      "metadata": {
        "id": "Qla5_nbkDeJJ",
        "colab_type": "code",
        "colab": {
          "base_uri": "https://localhost:8080/",
          "height": 279
        },
        "outputId": "2a362a04-da63-4eee-f6c0-436242a18fec"
      },
      "source": [
        "plt.plot(range(1, len(ada.cost_) + 1), ada.cost_, marker='o')\n",
        "plt.xlabel('Epochs')\n",
        "plt.ylabel('Sum-squared-error')\n",
        "plt.show()"
      ],
      "execution_count": 10,
      "outputs": [
        {
          "output_type": "display_data",
          "data": {
            "image/png": "[encoded data removed]",
            "text/plain": [
              "<Figure size 432x288 with 1 Axes>"
            ]
          },
          "metadata": {
            "tags": [],
            "needs_background": "light"
          }
        }
      ]
    }
  ]
}